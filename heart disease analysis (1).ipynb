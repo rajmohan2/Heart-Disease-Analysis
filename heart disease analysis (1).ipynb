{
 "cells": [
  {
   "cell_type": "code",
   "execution_count": 5,
   "metadata": {},
   "outputs": [],
   "source": [
    "import pandas as pd\n",
    "import numpy as np"
   ]
  },
  {
   "cell_type": "code",
   "execution_count": 6,
   "metadata": {},
   "outputs": [
    {
     "name": "stdout",
     "output_type": "stream",
     "text": [
      "     age  sex  chest pain   BP  cholestral  sugar  restecg  mhr  exang  \\\n",
      "0     63    1           1  145         233      1        2  150      0   \n",
      "1     67    1           4  160         286      0        2  108      1   \n",
      "2     67    1           4  120         229      0        2  129      1   \n",
      "3     37    1           3  130         250      0        0  187      0   \n",
      "4     41    0           2  130         204      0        2  172      0   \n",
      "5     56    1           2  120         236      0        0  178      0   \n",
      "6     62    0           4  140         268      0        2  160      0   \n",
      "7     57    0           4  120         354      0        0  163      1   \n",
      "8     63    1           4  130         254      0        2  147      0   \n",
      "9     53    1           4  140         203      1        2  155      1   \n",
      "10    57    1           4  140         192      0        0  148      0   \n",
      "11    56    0           2  140         294      0        2  153      0   \n",
      "12    56    1           3  130         256      1        2  142      1   \n",
      "13    44    1           2  120         263      0        0  173      0   \n",
      "14    52    1           3  172         199      1        0  162      0   \n",
      "15    57    1           3  150         168      0        0  174      0   \n",
      "16    48    1           2  110         229      0        0  168      0   \n",
      "17    54    1           4  140         239      0        0  160      0   \n",
      "18    48    0           3  130         275      0        0  139      0   \n",
      "19    49    1           2  130         266      0        0  171      0   \n",
      "20    64    1           1  110         211      0        2  144      1   \n",
      "21    58    0           1  150         283      1        2  162      0   \n",
      "22    58    1           2  120         284      0        2  160      0   \n",
      "23    58    1           3  132         224      0        2  173      0   \n",
      "24    60    1           4  130         206      0        2  132      1   \n",
      "25    50    0           3  120         219      0        0  158      0   \n",
      "26    58    0           3  120         340      0        0  172      0   \n",
      "27    66    0           1  150         226      0        0  114      0   \n",
      "28    43    1           4  150         247      0        0  171      0   \n",
      "29    40    1           4  110         167      0        2  114      1   \n",
      "..   ...  ...         ...  ...         ...    ...      ...  ...    ...   \n",
      "273   71    0           4  112         149      0        0  125      0   \n",
      "274   59    1           1  134         204      0        0  162      0   \n",
      "275   64    1           1  170         227      0        2  155      0   \n",
      "276   66    0           3  146         278      0        2  152      0   \n",
      "277   39    0           3  138         220      0        0  152      0   \n",
      "278   57    1           2  154         232      0        2  164      0   \n",
      "279   58    0           4  130         197      0        0  131      0   \n",
      "280   57    1           4  110         335      0        0  143      1   \n",
      "281   47    1           3  130         253      0        0  179      0   \n",
      "282   55    0           4  128         205      0        1  130      1   \n",
      "283   35    1           2  122         192      0        0  174      0   \n",
      "284   61    1           4  148         203      0        0  161      0   \n",
      "285   58    1           4  114         318      0        1  140      0   \n",
      "286   58    0           4  170         225      1        2  146      1   \n",
      "287   58    1           2  125         220      0        0  144      0   \n",
      "288   56    1           2  130         221      0        2  163      0   \n",
      "289   56    1           2  120         240      0        0  169      0   \n",
      "290   67    1           3  152         212      0        2  150      0   \n",
      "291   55    0           2  132         342      0        0  166      0   \n",
      "292   44    1           4  120         169      0        0  144      1   \n",
      "293   63    1           4  140         187      0        2  144      1   \n",
      "294   63    0           4  124         197      0        0  136      1   \n",
      "295   41    1           2  120         157      0        0  182      0   \n",
      "296   59    1           4  164         176      1        2   90      0   \n",
      "297   57    0           4  140         241      0        0  123      1   \n",
      "298   45    1           1  110         264      0        0  132      0   \n",
      "299   68    1           4  144         193      1        0  141      0   \n",
      "300   57    1           4  130         131      0        0  115      1   \n",
      "301   57    0           2  130         236      0        2  174      0   \n",
      "302   38    1           3  138         175      0        0  173      0   \n",
      "\n",
      "     oldpeak  slope ca thal  target  \n",
      "0        2.3      3  0    6       0  \n",
      "1        1.5      2  3    3       2  \n",
      "2        2.6      2  2    7       1  \n",
      "3        3.5      3  0    3       0  \n",
      "4        1.4      1  0    3       0  \n",
      "5        0.8      1  0    3       0  \n",
      "6        3.6      3  2    3       3  \n",
      "7        0.6      1  0    3       0  \n",
      "8        1.4      2  1    7       2  \n",
      "9        3.1      3  0    7       1  \n",
      "10       0.4      2  0    6       0  \n",
      "11       1.3      2  0    3       0  \n",
      "12       0.6      2  1    6       2  \n",
      "13       0.0      1  0    7       0  \n",
      "14       0.5      1  0    7       0  \n",
      "15       1.6      1  0    3       0  \n",
      "16       1.0      3  0    7       1  \n",
      "17       1.2      1  0    3       0  \n",
      "18       0.2      1  0    3       0  \n",
      "19       0.6      1  0    3       0  \n",
      "20       1.8      2  0    3       0  \n",
      "21       1.0      1  0    3       0  \n",
      "22       1.8      2  0    3       1  \n",
      "23       3.2      1  2    7       3  \n",
      "24       2.4      2  2    7       4  \n",
      "25       1.6      2  0    3       0  \n",
      "26       0.0      1  0    3       0  \n",
      "27       2.6      3  0    3       0  \n",
      "28       1.5      1  0    3       0  \n",
      "29       2.0      2  0    7       3  \n",
      "..       ...    ... ..  ...     ...  \n",
      "273      1.6      2  0    3       0  \n",
      "274      0.8      1  2    3       1  \n",
      "275      0.6      2  0    7       0  \n",
      "276      0.0      2  1    3       0  \n",
      "277      0.0      2  0    3       0  \n",
      "278      0.0      1  1    3       1  \n",
      "279      0.6      2  0    3       0  \n",
      "280      3.0      2  1    7       2  \n",
      "281      0.0      1  0    3       0  \n",
      "282      2.0      2  1    7       3  \n",
      "283      0.0      1  0    3       0  \n",
      "284      0.0      1  1    7       2  \n",
      "285      4.4      3  3    6       4  \n",
      "286      2.8      2  2    6       2  \n",
      "287      0.4      2  ?    7       0  \n",
      "288      0.0      1  0    7       0  \n",
      "289      0.0      3  0    3       0  \n",
      "290      0.8      2  0    7       1  \n",
      "291      1.2      1  0    3       0  \n",
      "292      2.8      3  0    6       2  \n",
      "293      4.0      1  2    7       2  \n",
      "294      0.0      2  0    3       1  \n",
      "295      0.0      1  0    3       0  \n",
      "296      1.0      2  2    6       3  \n",
      "297      0.2      2  0    7       1  \n",
      "298      1.2      2  0    7       1  \n",
      "299      3.4      2  2    7       2  \n",
      "300      1.2      2  1    7       3  \n",
      "301      0.0      2  1    3       1  \n",
      "302      0.0      1  ?    3       0  \n",
      "\n",
      "[303 rows x 14 columns]\n"
     ]
    }
   ],
   "source": [
    "col_names=['age','sex','chest pain','BP','cholestral','sugar','restecg','mhr','exang','oldpeak','slope','ca','thal','target']\n",
    "a=pd.read_csv(\"d:heart.csv\" , names=col_names)\n",
    "print(a)"
   ]
  },
  {
   "cell_type": "code",
   "execution_count": 11,
   "metadata": {},
   "outputs": [
    {
     "name": "stdout",
     "output_type": "stream",
     "text": [
      "-11.119492340036206\n"
     ]
    }
   ],
   "source": [
    "x=a.iloc[:,:3]\n",
    "y=a['BP']\n",
    "from sklearn import linear_model\n",
    "mdl=linear_model.LinearRegression()\n",
    "mdl.fit(x,y)\n",
    "from sklearn.model_selection import train_test_split\n",
    "x_train,x_test,y_train,y_test=train_test_split(x,y,test_size=0.4,random_state=0)\n",
    "mdl.fit(x_train,y_train)\n",
    "y_pred=mdl.predict(x_test)\n",
    "from sklearn.metrics import r2_score\n",
    "scr=r2_score(y_pred,y_test)\n",
    "print(scr)"
   ]
  },
  {
   "cell_type": "code",
   "execution_count": 10,
   "metadata": {},
   "outputs": [
    {
     "ename": "NameError",
     "evalue": "name 'plt' is not defined",
     "output_type": "error",
     "traceback": [
      "\u001b[1;31m---------------------------------------------------------------------------\u001b[0m",
      "\u001b[1;31mNameError\u001b[0m                                 Traceback (most recent call last)",
      "\u001b[1;32m<ipython-input-10-28f0ed13bd8b>\u001b[0m in \u001b[0;36m<module>\u001b[1;34m()\u001b[0m\n\u001b[1;32m----> 1\u001b[1;33m \u001b[0mplt\u001b[0m\u001b[1;33m.\u001b[0m\u001b[0mxlabel\u001b[0m\u001b[1;33m(\u001b[0m\u001b[0ma\u001b[0m\u001b[1;33m[\u001b[0m\u001b[1;34m'BP'\u001b[0m\u001b[1;33m]\u001b[0m\u001b[1;33m)\u001b[0m\u001b[1;33m\u001b[0m\u001b[0m\n\u001b[0m\u001b[0;32m      2\u001b[0m \u001b[0mplt\u001b[0m\u001b[1;33m.\u001b[0m\u001b[0mylabel\u001b[0m\u001b[1;33m(\u001b[0m\u001b[0ma\u001b[0m\u001b[1;33m[\u001b[0m\u001b[1;34m'cholestral'\u001b[0m\u001b[1;33m]\u001b[0m\u001b[1;33m)\u001b[0m\u001b[1;33m\u001b[0m\u001b[0m\n\u001b[0;32m      3\u001b[0m \u001b[0mplt\u001b[0m\u001b[1;33m.\u001b[0m\u001b[0mshow\u001b[0m\u001b[1;33m(\u001b[0m\u001b[1;33m)\u001b[0m\u001b[1;33m\u001b[0m\u001b[0m\n",
      "\u001b[1;31mNameError\u001b[0m: name 'plt' is not defined"
     ]
    }
   ],
   "source": []
  },
  {
   "cell_type": "code",
   "execution_count": null,
   "metadata": {},
   "outputs": [],
   "source": []
  }
 ],
 "metadata": {
  "kernelspec": {
   "display_name": "Python 3",
   "language": "python",
   "name": "python3"
  },
  "language_info": {
   "codemirror_mode": {
    "name": "ipython",
    "version": 3
   },
   "file_extension": ".py",
   "mimetype": "text/x-python",
   "name": "python",
   "nbconvert_exporter": "python",
   "pygments_lexer": "ipython3",
   "version": "3.7.0"
  }
 },
 "nbformat": 4,
 "nbformat_minor": 2
}
